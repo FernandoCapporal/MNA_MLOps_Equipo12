{
  "cells": [
    {
      "cell_type": "markdown",
      "metadata": {
        "id": "d-KgdgaNrtF6"
      },
      "source": [
        "**MAESTRÍA EN INTELIGENCIA ARTIFICIAL APLICADA**\n",
        "\n",
        "**Curso: Operaciones de Aprendizaje Automático**\n",
        "\n",
        "Tecnológico de Monterrey\n",
        "\n",
        "Versión simplificada y optimizada del notebook original.\n",
        "Se enfoca únicamente en el modelo Random Forest con técnicas de remuestreo\n",
        "y ajuste de umbral, eliminando análisis y modelos redundantes."
      ]
    },
    {
      "cell_type": "markdown",
      "metadata": {
        "id": "ri1bEjiZr5xo"
      },
      "source": [
        "**EQUIPO 10**\n",
        "\n",
        "**ALUMNOS:**\n",
        "\n",
        "Gabriela Lizeth Moreno Hernández - A01796677\n",
        "\n",
        "Alejandro Chávez Campos  -  A01374974\n",
        "\n",
        "Carlos Armando Alcántar Sánchez - A01311747\n",
        "\n",
        "Luis Fernando Caporal Montes de Oca  -  A01795898\n",
        "\n",
        "Yamil Abraham Nechar Reyes - A01795726"
      ]
    },
    {
      "cell_type": "code",
      "execution_count": 53,
      "metadata": {
        "id": "1krGgIgIorRi"
      },
      "outputs": [],
      "source": [
        "# =============================================\n",
        "# Importacion de librerias\n",
        "# =============================================\n",
        "import pandas as pd\n",
        "import numpy as np\n",
        "import matplotlib.pyplot as plt\n",
        "import seaborn as sns\n",
        "\n",
        "\n",
        "from sklearn.model_selection import train_test_split, GridSearchCV, StratifiedKFold\n",
        "from sklearn.ensemble import RandomForestClassifier\n",
        "from sklearn.metrics import (classification_report, confusion_matrix,\n",
        "precision_recall_curve, average_precision_score,\n",
        "precision_score, recall_score, f1_score)\n",
        "from sklearn.impute import SimpleImputer\n",
        "from imblearn.over_sampling import SMOTE, RandomOverSampler\n",
        "from imblearn.under_sampling import RandomUnderSampler"
      ]
    },
    {
      "cell_type": "markdown",
      "metadata": {
        "id": "G7KANRetovpB"
      },
      "source": [
        "# **1. Carga de Datos**"
      ]
    },
    {
      "cell_type": "markdown",
      "metadata": {
        "id": "92QDbZGWBWNF"
      },
      "source": [
        "### 1.1 Carga inicial y verificación del Dataset"
      ]
    },
    {
      "cell_type": "markdown",
      "metadata": {},
      "source": [
        "Primero, revisemos cuántas columnas reales tiene el dataset y sus nombres actuales:"
      ]
    },
    {
      "cell_type": "code",
      "execution_count": 54,
      "metadata": {},
      "outputs": [
        {
          "name": "stdout",
          "output_type": "stream",
          "text": [
            "Número de columnas en el archivo: 87\n",
            "Primeros nombres detectados:\n",
            "['33', '1', '3', '2', '8', '0', '5', '1.1', '3.1', '7', '0.1', '2.1', '1.2', '2.2', '6', '1.3', '2.3', '7.1', '1.4', '0.2', '1.5', '2.4', '5.1', '2.5', '1.6', '1.7', '2.6', '6.1', '1.8', '1.9', '8.1', '8.2', '0.3', '1.10', '8.3', '1.11', '0.4', '4', '5.2', '0.5', '0.6', '4.1', '3.2', '0.7', '0.8', '0.9', '6.2', '0.10', '0.11', '0.12', '0.13', '0.14', '0.15', '0.16', '0.17', '0.18', '0.19', '0.20', '5.3', '0.21', '0.22', '0.23', '0.24', '0.25', '0.26', '0.27', '0.28', '1.12', '0.29', '0.30', '0.31', '0.32', '0.33', '0.34', '0.35', '0.36', '0.37', '0.38', '0.39', '1.13', '0.40', '0.41', '0.42', '0.43', '0.44', '0.45', 'mixed_type_col']\n"
          ]
        }
      ],
      "source": [
        "data_path = r\"C:\\Users\\dark_\\OneDrive\\Documentos\\1 - Maestria\\6 Trimestre\\MLOps\\Proyecto\\Datasets\\insurance_company_modified.csv\"\n",
        "df = pd.read_csv(data_path)\n",
        "\n",
        "print(\"Número de columnas en el archivo:\", len(df.columns))\n",
        "print(\"Primeros nombres detectados:\")\n",
        "print(df.columns.tolist()[:87])  # muestra las columnas"
      ]
    },
    {
      "cell_type": "markdown",
      "metadata": {},
      "source": [
        "### 1.2 Limpieza y renombrado de columnas"
      ]
    },
    {
      "cell_type": "markdown",
      "metadata": {},
      "source": [
        "Eliminaremos la ultima columna dado que tiene una alta cardinalidad y parece no poseer un poder de generalización para poder agregar los nombres a las listas incluidas en el diccionario del dataset:"
      ]
    },
    {
      "cell_type": "code",
      "execution_count": 55,
      "metadata": {
        "colab": {
          "base_uri": "https://localhost:8080/"
        },
        "id": "91iIBodmqbh5",
        "outputId": "72f189e3-8930-4a55-e579-11cc6c5d15b4"
      },
      "outputs": [
        {
          "name": "stdout",
          "output_type": "stream",
          "text": [
            "Dimensiones finales del dataset: (5937, 86)\n",
            "Primeras filas:\n"
          ]
        },
        {
          "data": {
            "text/html": [
              "<div>\n",
              "<style scoped>\n",
              "    .dataframe tbody tr th:only-of-type {\n",
              "        vertical-align: middle;\n",
              "    }\n",
              "\n",
              "    .dataframe tbody tr th {\n",
              "        vertical-align: top;\n",
              "    }\n",
              "\n",
              "    .dataframe thead th {\n",
              "        text-align: right;\n",
              "    }\n",
              "</style>\n",
              "<table border=\"1\" class=\"dataframe\">\n",
              "  <thead>\n",
              "    <tr style=\"text-align: right;\">\n",
              "      <th></th>\n",
              "      <th>MOSTYPE</th>\n",
              "      <th>MAANTHUI</th>\n",
              "      <th>MGEMOMV</th>\n",
              "      <th>MGEMLEEF</th>\n",
              "      <th>MOSHOOFD</th>\n",
              "      <th>MGODRK</th>\n",
              "      <th>MGODPR</th>\n",
              "      <th>MGODOV</th>\n",
              "      <th>MGODGE</th>\n",
              "      <th>MRELGE</th>\n",
              "      <th>...</th>\n",
              "      <th>APERSONG</th>\n",
              "      <th>AGEZONG</th>\n",
              "      <th>AWAOREG</th>\n",
              "      <th>ABRAND</th>\n",
              "      <th>AZEILPL</th>\n",
              "      <th>APLEZIER</th>\n",
              "      <th>AFIETS</th>\n",
              "      <th>AINBOED</th>\n",
              "      <th>ABYSTAND</th>\n",
              "      <th>CARAVAN</th>\n",
              "    </tr>\n",
              "  </thead>\n",
              "  <tbody>\n",
              "    <tr>\n",
              "      <th>0</th>\n",
              "      <td>37.0</td>\n",
              "      <td>1.0</td>\n",
              "      <td>2.0</td>\n",
              "      <td>2.0</td>\n",
              "      <td>8.0</td>\n",
              "      <td>1.0</td>\n",
              "      <td>4.0</td>\n",
              "      <td>?</td>\n",
              "      <td>4.0</td>\n",
              "      <td>6.0</td>\n",
              "      <td>...</td>\n",
              "      <td>0.0</td>\n",
              "      <td>0.0</td>\n",
              "      <td>0.0</td>\n",
              "      <td>1.0</td>\n",
              "      <td>invalid</td>\n",
              "      <td>0.0</td>\n",
              "      <td>0.0</td>\n",
              "      <td>0.0</td>\n",
              "      <td>0.0</td>\n",
              "      <td>0.0</td>\n",
              "    </tr>\n",
              "    <tr>\n",
              "      <th>1</th>\n",
              "      <td>37.0</td>\n",
              "      <td>1.0</td>\n",
              "      <td>2.0</td>\n",
              "      <td>2.0</td>\n",
              "      <td>8.0</td>\n",
              "      <td>0.0</td>\n",
              "      <td>4.0</td>\n",
              "      <td>2.0</td>\n",
              "      <td>4.0</td>\n",
              "      <td>3.0</td>\n",
              "      <td>...</td>\n",
              "      <td>0.0</td>\n",
              "      <td>0.0</td>\n",
              "      <td>0.0</td>\n",
              "      <td>1.0</td>\n",
              "      <td>0.0</td>\n",
              "      <td>0.0</td>\n",
              "      <td>0.0</td>\n",
              "      <td>0.0</td>\n",
              "      <td>0.0</td>\n",
              "      <td>0.0</td>\n",
              "    </tr>\n",
              "    <tr>\n",
              "      <th>2</th>\n",
              "      <td>9.0</td>\n",
              "      <td>1.0</td>\n",
              "      <td>3.0</td>\n",
              "      <td>3.0</td>\n",
              "      <td>3.0</td>\n",
              "      <td>2.0</td>\n",
              "      <td>3.0</td>\n",
              "      <td>2.0</td>\n",
              "      <td>4.0</td>\n",
              "      <td>5.0</td>\n",
              "      <td>...</td>\n",
              "      <td>0.0</td>\n",
              "      <td>0.0</td>\n",
              "      <td>0.0</td>\n",
              "      <td>1.0</td>\n",
              "      <td>0.0</td>\n",
              "      <td>0.0</td>\n",
              "      <td>0.0</td>\n",
              "      <td>0.0</td>\n",
              "      <td>0.0</td>\n",
              "      <td>0.0</td>\n",
              "    </tr>\n",
              "    <tr>\n",
              "      <th>3</th>\n",
              "      <td>40.0</td>\n",
              "      <td>1.0</td>\n",
              "      <td>4.0</td>\n",
              "      <td>2.0</td>\n",
              "      <td>10.0</td>\n",
              "      <td>1.0</td>\n",
              "      <td>4.0</td>\n",
              "      <td>1.0</td>\n",
              "      <td>4.0</td>\n",
              "      <td>7.0</td>\n",
              "      <td>...</td>\n",
              "      <td>0.0</td>\n",
              "      <td>0.0</td>\n",
              "      <td>0.0</td>\n",
              "      <td>1.0</td>\n",
              "      <td>0.0</td>\n",
              "      <td>0.0</td>\n",
              "      <td>0.0</td>\n",
              "      <td>0.0</td>\n",
              "      <td>0.0</td>\n",
              "      <td>0.0</td>\n",
              "    </tr>\n",
              "    <tr>\n",
              "      <th>4</th>\n",
              "      <td>23.0</td>\n",
              "      <td>1.0</td>\n",
              "      <td>2.0</td>\n",
              "      <td>1.0</td>\n",
              "      <td>5.0</td>\n",
              "      <td>0.0</td>\n",
              "      <td>5.0</td>\n",
              "      <td>0.0</td>\n",
              "      <td>5.0</td>\n",
              "      <td>0.0</td>\n",
              "      <td>...</td>\n",
              "      <td>0.0</td>\n",
              "      <td>0.0</td>\n",
              "      <td>0.0</td>\n",
              "      <td>0.0</td>\n",
              "      <td>0.0</td>\n",
              "      <td>0.0</td>\n",
              "      <td>0.0</td>\n",
              "      <td>0.0</td>\n",
              "      <td>0.0</td>\n",
              "      <td>0.0</td>\n",
              "    </tr>\n",
              "  </tbody>\n",
              "</table>\n",
              "<p>5 rows × 86 columns</p>\n",
              "</div>"
            ],
            "text/plain": [
              "  MOSTYPE MAANTHUI MGEMOMV MGEMLEEF MOSHOOFD MGODRK MGODPR MGODOV MGODGE  \\\n",
              "0   37.0       1.0     2.0      2.0      8.0    1.0    4.0      ?    4.0   \n",
              "1    37.0      1.0     2.0      2.0      8.0    0.0    4.0    2.0    4.0   \n",
              "2     9.0      1.0     3.0      3.0      3.0    2.0    3.0   2.0     4.0   \n",
              "3    40.0      1.0     4.0      2.0     10.0    1.0    4.0    1.0    4.0   \n",
              "4   23.0       1.0     2.0      1.0      5.0    0.0    5.0    0.0    5.0   \n",
              "\n",
              "  MRELGE  ... APERSONG AGEZONG AWAOREG ABRAND  AZEILPL APLEZIER AFIETS  \\\n",
              "0   6.0   ...      0.0     0.0     0.0    1.0  invalid      0.0    0.0   \n",
              "1    3.0  ...      0.0     0.0     0.0    1.0      0.0      0.0    0.0   \n",
              "2    5.0  ...      0.0     0.0    0.0     1.0      0.0      0.0    0.0   \n",
              "3    7.0  ...      0.0     0.0     0.0   1.0       0.0      0.0    0.0   \n",
              "4    0.0  ...      0.0     0.0     0.0    0.0      0.0      0.0    0.0   \n",
              "\n",
              "  AINBOED ABYSTAND CARAVAN  \n",
              "0     0.0      0.0     0.0  \n",
              "1    0.0       0.0     0.0  \n",
              "2     0.0      0.0     0.0  \n",
              "3     0.0      0.0     0.0  \n",
              "4     0.0      0.0     0.0  \n",
              "\n",
              "[5 rows x 86 columns]"
            ]
          },
          "metadata": {},
          "output_type": "display_data"
        }
      ],
      "source": [
        "# =============================================\n",
        "# 2. Carga de datos y renombrado de columnas\n",
        "# =============================================\n",
        "# Eliminar última columna (no relevante, alta cardinalidad)\n",
        "df = df.iloc[:, :-1]\n",
        "\n",
        "# Renombrar columnas según diccionario oficial\n",
        "column_names = [\n",
        "    \"MOSTYPE\",\"MAANTHUI\",\"MGEMOMV\",\"MGEMLEEF\",\"MOSHOOFD\",\"MGODRK\",\"MGODPR\",\"MGODOV\",\"MGODGE\",\n",
        "    \"MRELGE\",\"MRELSA\",\"MRELOV\",\"MFALLEEN\",\"MFGEKIND\",\"MFWEKIND\",\"MOPLHOOG\",\"MOPLMIDD\",\"MOPLLAAG\",\n",
        "    \"MBERHOOG\",\"MBERZELF\",\"MBERBOER\",\"MBERMIDD\",\"MBERARBG\",\"MBERARBO\",\"MSKA\",\"MSKB1\",\"MSKB2\",\n",
        "    \"MSKC\",\"MSKD\",\"MHHUUR\",\"MHKOOP\",\"MAUT1\",\"MAUT2\",\"MAUT0\",\"MZFONDS\",\"MZPART\",\"MINKM30\",\n",
        "    \"MINK3045\",\"MINK4575\",\"MINK7512\",\"MINK123M\",\"MINKGEM\",\"MKOOPKLA\",\"PWAPART\",\"PWABEDR\",\n",
        "    \"PWALAND\",\"PPERSAUT\",\"PBESAUT\",\"PMOTSCO\",\"PVRAAUT\",\"PAANHANG\",\"PTRACTOR\",\"PWERKT\",\"PBROM\",\n",
        "    \"PLEVEN\",\"PPERSONG\",\"PGEZONG\",\"PWAOREG\",\"PBRAND\",\"PZEILPL\",\"PPLEZIER\",\"PFIETS\",\"PINBOED\",\n",
        "    \"PBYSTAND\",\"AWAPART\",\"AWABEDR\",\"AWALAND\",\"APERSAUT\",\"ABESAUT\",\"AMOTSCO\",\"AVRAAUT\",\n",
        "    \"AAANHANG\",\"ATRACTOR\",\"AWERKT\",\"ABROM\",\"ALEVEN\",\"APERSONG\",\"AGEZONG\",\"AWAOREG\",\"ABRAND\",\n",
        "    \"AZEILPL\",\"APLEZIER\",\"AFIETS\",\"AINBOED\",\"ABYSTAND\",\"CARAVAN\"\n",
        "]\n",
        "df.columns = column_names\n",
        "\n",
        "print(\"Dimensiones finales del dataset:\", df.shape)\n",
        "print(\"Primeras filas:\")\n",
        "display(df.head())"
      ]
    },
    {
      "cell_type": "code",
      "execution_count": 56,
      "metadata": {
        "colab": {
          "base_uri": "https://localhost:8080/"
        },
        "id": "pBqBmefABQ8U",
        "outputId": "93e6c85a-9c0c-4d49-dfe9-885dee467e0b"
      },
      "outputs": [
        {
          "name": "stdout",
          "output_type": "stream",
          "text": [
            "Información general del dataset:\n",
            "<class 'pandas.core.frame.DataFrame'>\n",
            "RangeIndex: 5937 entries, 0 to 5936\n",
            "Data columns (total 86 columns):\n",
            " #   Column    Non-Null Count  Dtype \n",
            "---  ------    --------------  ----- \n",
            " 0   MOSTYPE   5869 non-null   object\n",
            " 1   MAANTHUI  5864 non-null   object\n",
            " 2   MGEMOMV   5873 non-null   object\n",
            " 3   MGEMLEEF  5868 non-null   object\n",
            " 4   MOSHOOFD  5877 non-null   object\n",
            " 5   MGODRK    5863 non-null   object\n",
            " 6   MGODPR    5858 non-null   object\n",
            " 7   MGODOV    5874 non-null   object\n",
            " 8   MGODGE    5875 non-null   object\n",
            " 9   MRELGE    5876 non-null   object\n",
            " 10  MRELSA    5871 non-null   object\n",
            " 11  MRELOV    5871 non-null   object\n",
            " 12  MFALLEEN  5871 non-null   object\n",
            " 13  MFGEKIND  5852 non-null   object\n",
            " 14  MFWEKIND  5877 non-null   object\n",
            " 15  MOPLHOOG  5866 non-null   object\n",
            " 16  MOPLMIDD  5874 non-null   object\n",
            " 17  MOPLLAAG  5874 non-null   object\n",
            " 18  MBERHOOG  5855 non-null   object\n",
            " 19  MBERZELF  5870 non-null   object\n",
            " 20  MBERBOER  5859 non-null   object\n",
            " 21  MBERMIDD  5852 non-null   object\n",
            " 22  MBERARBG  5885 non-null   object\n",
            " 23  MBERARBO  5864 non-null   object\n",
            " 24  MSKA      5860 non-null   object\n",
            " 25  MSKB1     5863 non-null   object\n",
            " 26  MSKB2     5877 non-null   object\n",
            " 27  MSKC      5858 non-null   object\n",
            " 28  MSKD      5864 non-null   object\n",
            " 29  MHHUUR    5868 non-null   object\n",
            " 30  MHKOOP    5879 non-null   object\n",
            " 31  MAUT1     5888 non-null   object\n",
            " 32  MAUT2     5892 non-null   object\n",
            " 33  MAUT0     5874 non-null   object\n",
            " 34  MZFONDS   5872 non-null   object\n",
            " 35  MZPART    5864 non-null   object\n",
            " 36  MINKM30   5875 non-null   object\n",
            " 37  MINK3045  5859 non-null   object\n",
            " 38  MINK4575  5864 non-null   object\n",
            " 39  MINK7512  5879 non-null   object\n",
            " 40  MINK123M  5852 non-null   object\n",
            " 41  MINKGEM   5874 non-null   object\n",
            " 42  MKOOPKLA  5879 non-null   object\n",
            " 43  PWAPART   5856 non-null   object\n",
            " 44  PWABEDR   5864 non-null   object\n",
            " 45  PWALAND   5867 non-null   object\n",
            " 46  PPERSAUT  5872 non-null   object\n",
            " 47  PBESAUT   5864 non-null   object\n",
            " 48  PMOTSCO   5867 non-null   object\n",
            " 49  PVRAAUT   5878 non-null   object\n",
            " 50  PAANHANG  5868 non-null   object\n",
            " 51  PTRACTOR  5870 non-null   object\n",
            " 52  PWERKT    5867 non-null   object\n",
            " 53  PBROM     5876 non-null   object\n",
            " 54  PLEVEN    5891 non-null   object\n",
            " 55  PPERSONG  5863 non-null   object\n",
            " 56  PGEZONG   5852 non-null   object\n",
            " 57  PWAOREG   5876 non-null   object\n",
            " 58  PBRAND    5841 non-null   object\n",
            " 59  PZEILPL   5878 non-null   object\n",
            " 60  PPLEZIER  5872 non-null   object\n",
            " 61  PFIETS    5861 non-null   object\n",
            " 62  PINBOED   5869 non-null   object\n",
            " 63  PBYSTAND  5886 non-null   object\n",
            " 64  AWAPART   5859 non-null   object\n",
            " 65  AWABEDR   5871 non-null   object\n",
            " 66  AWALAND   5870 non-null   object\n",
            " 67  APERSAUT  5878 non-null   object\n",
            " 68  ABESAUT   5873 non-null   object\n",
            " 69  AMOTSCO   5866 non-null   object\n",
            " 70  AVRAAUT   5874 non-null   object\n",
            " 71  AAANHANG  5876 non-null   object\n",
            " 72  ATRACTOR  5875 non-null   object\n",
            " 73  AWERKT    5866 non-null   object\n",
            " 74  ABROM     5867 non-null   object\n",
            " 75  ALEVEN    5855 non-null   object\n",
            " 76  APERSONG  5884 non-null   object\n",
            " 77  AGEZONG   5880 non-null   object\n",
            " 78  AWAOREG   5870 non-null   object\n",
            " 79  ABRAND    5871 non-null   object\n",
            " 80  AZEILPL   5866 non-null   object\n",
            " 81  APLEZIER  5890 non-null   object\n",
            " 82  AFIETS    5889 non-null   object\n",
            " 83  AINBOED   5876 non-null   object\n",
            " 84  ABYSTAND  5875 non-null   object\n",
            " 85  CARAVAN   5858 non-null   object\n",
            "dtypes: object(86)\n",
            "memory usage: 3.9+ MB\n",
            "None\n"
          ]
        }
      ],
      "source": [
        "print(\"Información general del dataset:\")\n",
        "print(df.info())"
      ]
    },
    {
      "cell_type": "markdown",
      "metadata": {},
      "source": [
        "# **2. Limpieza de Dataset**"
      ]
    },
    {
      "cell_type": "markdown",
      "metadata": {
        "id": "sOVgi9CcW2QG"
      },
      "source": [
        "### 2.1 Identificar Valores nulos"
      ]
    },
    {
      "cell_type": "markdown",
      "metadata": {},
      "source": [
        "Antes del modelado, se verifica la presencia de valores faltantes en las variables numéricas.\n",
        "En caso de detectarse, se aplica un **imputador con estrategia de media (`SimpleImputer(strategy='mean')`)**\n",
        "para garantizar que no existan valores NaN al momento del entrenamiento o del remuestreo (SMOTE/Under/OverSampler)."
      ]
    },
    {
      "cell_type": "code",
      "execution_count": 57,
      "metadata": {
        "colab": {
          "base_uri": "https://localhost:8080/"
        },
        "id": "IVKpkvw6TTi8",
        "outputId": "a34cbf71-1bfa-4c73-f82d-f58bd6ddbf94"
      },
      "outputs": [
        {
          "name": "stdout",
          "output_type": "stream",
          "text": [
            "Valores faltantes totales antes de la imputación: 5776\n"
          ]
        }
      ],
      "source": [
        "# Detección de valores nulos antes de la imputación\n",
        "missing_before = df.isna().sum().sum()\n",
        "print(f\"Valores faltantes totales antes de la imputación: {missing_before}\")"
      ]
    },
    {
      "cell_type": "markdown",
      "metadata": {
        "id": "YtTnnHMEdKFY"
      },
      "source": [
        "### 2.2 Separacion y de variable predictoria e imputacion de valores nulos"
      ]
    },
    {
      "cell_type": "code",
      "execution_count": 58,
      "metadata": {
        "colab": {
          "base_uri": "https://localhost:8080/"
        },
        "id": "ACtQT2lLYbba",
        "outputId": "a5ba38ed-35b0-46d8-b54c-a7e03615a368"
      },
      "outputs": [],
      "source": [
        "# Separar variables predictoras y objetivo\n",
        "X = df.drop(columns=['CARAVAN'])\n",
        "\n",
        "# Conversión segura de la variable objetivo\n",
        "y = pd.to_numeric(df['CARAVAN'], errors='coerce').fillna(0).astype(int)"
      ]
    },
    {
      "cell_type": "markdown",
      "metadata": {},
      "source": [
        "Verificacion de valores en Y, para mantener solo las clases validas (0 y  1)"
      ]
    },
    {
      "cell_type": "code",
      "execution_count": 59,
      "metadata": {},
      "outputs": [
        {
          "name": "stdout",
          "output_type": "stream",
          "text": [
            "Distribución de clases en y:\n",
            "CARAVAN\n",
            "0      5564\n",
            "1       351\n",
            "451       1\n",
            "566       1\n",
            "430       1\n",
            "829       1\n",
            "933       1\n",
            "281       1\n",
            "312       1\n",
            "763       1\n",
            "758       1\n",
            "144       1\n",
            "10        1\n",
            "771       1\n",
            "949       1\n",
            "299       1\n",
            "916       1\n",
            "185       1\n",
            "137       1\n",
            "631       1\n",
            "782       1\n",
            "256       1\n",
            "668       1\n",
            "538       1\n",
            "Name: count, dtype: int64\n"
          ]
        }
      ],
      "source": [
        "print(\"Distribución de clases en y:\")\n",
        "print(y.value_counts())"
      ]
    },
    {
      "cell_type": "markdown",
      "metadata": {},
      "source": [
        "Estos valores son residuos de un proceso previo de modificación del dataset (probablemente una mezcla con índices o IDs)."
      ]
    },
    {
      "cell_type": "code",
      "execution_count": 60,
      "metadata": {},
      "outputs": [
        {
          "name": "stdout",
          "output_type": "stream",
          "text": [
            "Valores únicos detectados en CARAVAN antes de limpiar:\n",
            "['0.0' ' 0.0 ' '1.0' 'error' '668.0' ' 1.0 ' nan 'invalid' ' ? ' '256.0'\n",
            " ' NAN ' '782.0' '631.0' '137.0' '185.0' '?' '916.0' '299.0' '949.0'\n",
            " '771.0']\n",
            "Distribución de la variable CARAVAN después de limpieza:\n",
            "CARAVAN\n",
            "0    5455\n",
            "1     351\n",
            "Name: count, dtype: int64\n"
          ]
        }
      ],
      "source": [
        "# =============================================\n",
        "#  Limpieza del target (CARAVAN)\n",
        "# =============================================\n",
        "\n",
        "print(\"Valores únicos detectados en CARAVAN antes de limpiar:\")\n",
        "print(df[\"CARAVAN\"].unique()[:20])\n",
        "\n",
        "# Convertir todo a texto, limpiar espacios y mapear valores comunes\n",
        "df[\"CARAVAN\"] = (\n",
        "    df[\"CARAVAN\"]\n",
        "    .astype(str)\n",
        "    .str.strip()\n",
        "    .str.lower()\n",
        "    .replace({\n",
        "        \"0\": 0, \"0.0\": 0, \"1\": 1, \"1.0\": 1,\n",
        "        \"no\": 0, \"yes\": 1, \"false\": 0, \"true\": 1\n",
        "    })\n",
        ")\n",
        "\n",
        "# Eliminar filas con valores no válidos\n",
        "df = df[df[\"CARAVAN\"].isin([0, 1])]\n",
        "\n",
        "print(\"Distribución de la variable CARAVAN después de limpieza:\")\n",
        "print(df[\"CARAVAN\"].value_counts())"
      ]
    },
    {
      "cell_type": "markdown",
      "metadata": {},
      "source": [
        "### 2.3 Separación y limpieza de datos"
      ]
    },
    {
      "cell_type": "code",
      "execution_count": 61,
      "metadata": {
        "colab": {
          "base_uri": "https://localhost:8080/"
        },
        "id": "JeVbszt2glNy",
        "outputId": "c3596097-4913-4819-99f1-cec8ab1860ac"
      },
      "outputs": [
        {
          "name": "stdout",
          "output_type": "stream",
          "text": [
            "Aplicando imputación de valores nulos (conversión numérica incluida)...\n",
            "Valores faltantes totales después de la imputación: 0\n"
          ]
        }
      ],
      "source": [
        "# =============================================\n",
        "# Separación de datos y manejo de valores nulos (versión robusta)\n",
        "# =============================================\n",
        "\n",
        "# Separar variables predictoras y objetivo\n",
        "X = df.drop(columns=[\"CARAVAN\"])\n",
        "y = df[\"CARAVAN\"].astype(int)\n",
        "\n",
        "# Convertir todo a numérico (forzando errores a NaN)\n",
        "X = X.apply(pd.to_numeric, errors='coerce')\n",
        "\n",
        "# División estratificada del dataset\n",
        "X_train, X_test, y_train, y_test = train_test_split(X, y, test_size=0.2, random_state=42, stratify=y)\n",
        "\n",
        "# Imputación de valores faltantes con media\n",
        "print(\"Aplicando imputación de valores nulos (conversión numérica incluida)...\")\n",
        "imputer = SimpleImputer(strategy=\"mean\")\n",
        "X_train[:] = imputer.fit_transform(X_train)\n",
        "X_test[:] = imputer.transform(X_test)\n",
        "\n",
        "# Verificación posterior\n",
        "missing_after = X_train.isna().sum().sum() + X_test.isna().sum().sum()\n",
        "print(f\"Valores faltantes totales después de la imputación: {missing_after}\")\n"
      ]
    },
    {
      "cell_type": "markdown",
      "metadata": {},
      "source": [
        "### Confirmación de limpieza"
      ]
    },
    {
      "cell_type": "code",
      "execution_count": 62,
      "metadata": {},
      "outputs": [
        {
          "name": "stdout",
          "output_type": "stream",
          "text": [
            "Dimensiones de los conjuntos resultantes:\n",
            "Entrenamiento: (4644, 85) (4644,)\n",
            "Prueba: (1162, 85) (1162,)\n",
            "\n",
            "Distribución de clases en entrenamiento:\n",
            "CARAVAN\n",
            "0    0.939492\n",
            "1    0.060508\n",
            "Name: proportion, dtype: float64\n"
          ]
        }
      ],
      "source": [
        "print(\"Dimensiones de los conjuntos resultantes:\")\n",
        "print(\"Entrenamiento:\", X_train.shape, y_train.shape)\n",
        "print(\"Prueba:\", X_test.shape, y_test.shape)\n",
        "\n",
        "print(\"\\nDistribución de clases en entrenamiento:\")\n",
        "print(y_train.value_counts(normalize=True))"
      ]
    },
    {
      "cell_type": "markdown",
      "metadata": {},
      "source": [
        "# **3. Modelado con técnicas de remuestreo**"
      ]
    },
    {
      "cell_type": "code",
      "execution_count": 63,
      "metadata": {
        "id": "wF-p8hpCWTRn"
      },
      "outputs": [
        {
          "data": {
            "image/png": "[encoded data removed]",
            "text/plain": [
              "<Figure size 500x400 with 1 Axes>"
            ]
          },
          "metadata": {},
          "output_type": "display_data"
        },
        {
          "data": {
            "image/png": "[encoded data removed]",
            "text/plain": [
              "<Figure size 500x400 with 1 Axes>"
            ]
          },
          "metadata": {},
          "output_type": "display_data"
        },
        {
          "data": {
            "image/png": "[encoded data removed]",
            "text/plain": [
              "<Figure size 500x400 with 1 Axes>"
            ]
          },
          "metadata": {},
          "output_type": "display_data"
        },
        {
          "data": {
            "image/png": "[encoded data removed]",
            "text/plain": [
              "<Figure size 500x400 with 1 Axes>"
            ]
          },
          "metadata": {},
          "output_type": "display_data"
        },
        {
          "data": {
            "text/html": [
              "<div>\n",
              "<style scoped>\n",
              "    .dataframe tbody tr th:only-of-type {\n",
              "        vertical-align: middle;\n",
              "    }\n",
              "\n",
              "    .dataframe tbody tr th {\n",
              "        vertical-align: top;\n",
              "    }\n",
              "\n",
              "    .dataframe thead th {\n",
              "        text-align: right;\n",
              "    }\n",
              "</style>\n",
              "<table border=\"1\" class=\"dataframe\">\n",
              "  <thead>\n",
              "    <tr style=\"text-align: right;\">\n",
              "      <th></th>\n",
              "      <th>Técnica</th>\n",
              "      <th>Accuracy</th>\n",
              "      <th>Precision (Sí)</th>\n",
              "      <th>Recall (Sí)</th>\n",
              "      <th>F1 (Sí)</th>\n",
              "    </tr>\n",
              "  </thead>\n",
              "  <tbody>\n",
              "    <tr>\n",
              "      <th>2</th>\n",
              "      <td>RandomUnderSampler</td>\n",
              "      <td>0.691050</td>\n",
              "      <td>0.116711</td>\n",
              "      <td>0.628571</td>\n",
              "      <td>0.196868</td>\n",
              "    </tr>\n",
              "    <tr>\n",
              "      <th>3</th>\n",
              "      <td>SMOTE</td>\n",
              "      <td>0.937177</td>\n",
              "      <td>0.411765</td>\n",
              "      <td>0.100000</td>\n",
              "      <td>0.160920</td>\n",
              "    </tr>\n",
              "    <tr>\n",
              "      <th>1</th>\n",
              "      <td>RandomOverSampler</td>\n",
              "      <td>0.935456</td>\n",
              "      <td>0.333333</td>\n",
              "      <td>0.071429</td>\n",
              "      <td>0.117647</td>\n",
              "    </tr>\n",
              "    <tr>\n",
              "      <th>0</th>\n",
              "      <td>Sin remuestreo</td>\n",
              "      <td>0.936317</td>\n",
              "      <td>0.300000</td>\n",
              "      <td>0.042857</td>\n",
              "      <td>0.075000</td>\n",
              "    </tr>\n",
              "  </tbody>\n",
              "</table>\n",
              "</div>"
            ],
            "text/plain": [
              "              Técnica  Accuracy  Precision (Sí)  Recall (Sí)   F1 (Sí)\n",
              "2  RandomUnderSampler  0.691050        0.116711     0.628571  0.196868\n",
              "3               SMOTE  0.937177        0.411765     0.100000  0.160920\n",
              "1   RandomOverSampler  0.935456        0.333333     0.071429  0.117647\n",
              "0      Sin remuestreo  0.936317        0.300000     0.042857  0.075000"
            ]
          },
          "metadata": {},
          "output_type": "display_data"
        }
      ],
      "source": [
        "# =============================================\n",
        "# Modelado y evaluación inicial\n",
        "# =============================================\n",
        "samplers = {\n",
        "    \"Sin remuestreo\": None,\n",
        "    \"RandomOverSampler\": RandomOverSampler(random_state=42),\n",
        "    \"RandomUnderSampler\": RandomUnderSampler(random_state=42),\n",
        "    \"SMOTE\": SMOTE(random_state=42)\n",
        "}\n",
        "\n",
        "resultados = []\n",
        "\n",
        "for nombre, sampler in samplers.items():\n",
        "    if sampler is not None:\n",
        "        X_res, y_res = sampler.fit_resample(X_train, y_train)\n",
        "    else:\n",
        "        X_res, y_res = X_train, y_train\n",
        "\n",
        "    rf = RandomForestClassifier(n_estimators=200, random_state=42, class_weight=\"balanced_subsample\")\n",
        "    rf.fit(X_res, y_res)\n",
        "    y_pred = rf.predict(X_test)\n",
        "\n",
        "    report = classification_report(y_test, y_pred, output_dict=True)\n",
        "    resultados.append({\n",
        "        \"Técnica\": nombre,\n",
        "        \"Accuracy\": report[\"accuracy\"],\n",
        "        \"Precision (Sí)\": report[\"1\"][\"precision\"],\n",
        "        \"Recall (Sí)\": report[\"1\"][\"recall\"],\n",
        "        \"F1 (Sí)\": report[\"1\"][\"f1-score\"]\n",
        "    })\n",
        "\n",
        "    cm = confusion_matrix(y_test, y_pred)\n",
        "    plt.figure(figsize=(5,4))\n",
        "    sns.heatmap(cm, annot=True, fmt=\"d\", cmap=\"Blues\", cbar=False)\n",
        "    plt.title(f\"Matriz de confusión - RandomForest ({nombre})\")\n",
        "    plt.xlabel(\"Predicho\")\n",
        "    plt.ylabel(\"Real\")\n",
        "    plt.show()\n",
        "\n",
        "resultados_df = pd.DataFrame(resultados)\n",
        "display(resultados_df.sort_values(by=\"Recall (Sí)\", ascending=False))"
      ]
    },
    {
      "cell_type": "markdown",
      "metadata": {},
      "source": [
        "**Interpretación de resultados**\n",
        "\n",
        "Los resultados obtenidos muestran el desempeño del modelo Random Forest bajo distintos esquemas de remuestreo aplicados para abordar el problema de desbalance de clases presente en el dataset. A continuación se detalla el análisis:\n",
        "\n",
        "* 1️ Sin remuestreo\n",
        "\n",
        "El modelo alcanza una exactitud global (accuracy) de aproximadamente 93 %, pero su capacidad para identificar correctamente la clase minoritaria (“Sí”) es muy limitada, con un recall del 4 % y un F1 de 0.07.\n",
        "Esto significa que el modelo predice correctamente casi todos los casos “No”, pero no logra reconocer a los clientes que realmente contratarían el seguro, reproduciendo el sesgo natural del conjunto de datos desbalanceado.\n",
        "\n",
        "* 2️ RandomOverSampler\n",
        "\n",
        "Al duplicar aleatoriamente ejemplos de la clase minoritaria, el modelo mejora ligeramente su recall hasta un 7.1 %, aunque la ganancia sigue siendo marginal. La precisión aumenta un poco (33 %), pero el modelo aún se concentra fuertemente en la clase mayoritaria, por lo que el impacto del sobre-muestreo es limitado.\n",
        "\n",
        "* 3️ RandomUnderSampler\n",
        "\n",
        "Esta técnica equilibra las clases reduciendo el número de ejemplos de la clase mayoritaria.\n",
        "El modelo resultante presenta una **caída considerable en accuracy (≈69 %), pero a cambio logra un recall del 62.8 % y un F1 de 0.19, el mejor valor entre todas las pruebas**.\n",
        "Esto indica que el modelo aprende a reconocer mejor los casos positivos, aunque introduce más falsos positivos.\n",
        "En un contexto de negocio, este enfoque es preferible cuando es más costoso perder un cliente potencial (falso negativo) que contactar a alguien que no comprará (falso positivo).\n",
        "\n",
        "* 4️ SMOTE\n",
        "\n",
        "El método SMOTE genera nuevos ejemplos sintéticos de la clase minoritaria.\n",
        "El modelo mantiene una accuracy similar al baseline (93 %), mejora el recall a 8.5 % y logra una precisión del 33 %, lo que se traduce en un F1 de 0.11.\n",
        "Esto representa un mejor equilibrio entre precisión y sensibilidad, aunque todavía se mantiene lejos de un rendimiento óptimo."
      ]
    },
    {
      "cell_type": "markdown",
      "metadata": {},
      "source": [
        "# **Optimización y análisis del modelo RandomForest (RandomUnderSampler)**"
      ]
    },
    {
      "cell_type": "markdown",
      "metadata": {},
      "source": [
        "Se incluye GridSearchCV para ajustar los hiperparámetros del Random Forest (con validación cruzada estratificada) y la curva Precision–Recall para analizar el mejor umbral de decisión."
      ]
    },
    {
      "cell_type": "code",
      "execution_count": 64,
      "metadata": {
        "colab": {
          "base_uri": "https://localhost:8080/"
        },
        "id": "KQsyWZ8PXGJO",
        "outputId": "29359296-7975-4e93-f549-05c077bc3dca"
      },
      "outputs": [
        {
          "name": "stdout",
          "output_type": "stream",
          "text": [
            "Fitting 5 folds for each of 81 candidates, totalling 405 fits\n",
            "Mejores hiperparámetros: {'max_depth': 10, 'min_samples_leaf': 1, 'min_samples_split': 2, 'n_estimators': 300}\n",
            "Mejor F1 en validación: 0.6978778272956607\n",
            "\n",
            "Reporte de clasificación (test):\n",
            "              precision    recall  f1-score   support\n",
            "\n",
            "           0       0.97      0.71      0.82      1092\n",
            "           1       0.12      0.63      0.20        70\n",
            "\n",
            "    accuracy                           0.70      1162\n",
            "   macro avg       0.54      0.67      0.51      1162\n",
            "weighted avg       0.92      0.70      0.78      1162\n",
            "\n"
          ]
        }
      ],
      "source": [
        "# =============================================\n",
        "# Optimización de hiperparámetros\n",
        "# =============================================\n",
        "rus = RandomUnderSampler(random_state=42)\n",
        "X_res, y_res = rus.fit_resample(X_train, y_train)\n",
        "\n",
        "param_grid = {\n",
        "    \"n_estimators\": [100, 200, 300],\n",
        "    \"max_depth\": [None, 10, 20],\n",
        "    \"min_samples_split\": [2, 5, 10],\n",
        "    \"min_samples_leaf\": [1, 2, 4]\n",
        "}\n",
        "\n",
        "cv = StratifiedKFold(n_splits=5, shuffle=True, random_state=42)\n",
        "rf = RandomForestClassifier(random_state=42, class_weight=\"balanced_subsample\")\n",
        "\n",
        "grid = GridSearchCV(rf, param_grid, scoring=\"f1\", cv=cv, n_jobs=-1, verbose=1)\n",
        "grid.fit(X_res, y_res)\n",
        "\n",
        "print(\"Mejores hiperparámetros:\", grid.best_params_)\n",
        "print(\"Mejor F1 en validación:\", grid.best_score_)\n",
        "\n",
        "best_rf = grid.best_estimator_\n",
        "y_pred = best_rf.predict(X_test)\n",
        "y_proba = best_rf.predict_proba(X_test)[:, 1]\n",
        "\n",
        "print(\"\\nReporte de clasificación (test):\")\n",
        "print(classification_report(y_test, y_pred))\n"
      ]
    },
    {
      "cell_type": "markdown",
      "metadata": {
        "id": "A76CLdnrXzzT"
      },
      "source": [
        "### 3.1 Curva Precision–Recall y umbral óptimo"
      ]
    },
    {
      "cell_type": "code",
      "execution_count": 65,
      "metadata": {
        "colab": {
          "base_uri": "https://localhost:8080/"
        },
        "id": "sa2ztlSuX5Mb",
        "outputId": "cdc9e17f-737a-4f27-8ca0-ff2cdfa7e0ea"
      },
      "outputs": [
        {
          "data": {
            "image/png": "[encoded data removed]",
            "text/plain": [
              "<Figure size 700x500 with 1 Axes>"
            ]
          },
          "metadata": {},
          "output_type": "display_data"
        },
        {
          "name": "stdout",
          "output_type": "stream",
          "text": [
            "Umbral óptimo basado en F1 = 0.708\n",
            "Precision: 0.311, Recall: 0.400, F1: 0.350\n"
          ]
        }
      ],
      "source": [
        "# =============================================\n",
        "# Curva Precision–Recall y ajuste de umbral\n",
        "# =============================================\n",
        "precision, recall, thresholds = precision_recall_curve(y_test, y_proba)\n",
        "ap_score = average_precision_score(y_test, y_proba)\n",
        "\n",
        "plt.figure(figsize=(7,5))\n",
        "plt.plot(recall, precision, lw=2, color='b', label=f'AP = {ap_score:.3f}')\n",
        "plt.xlabel(\"Recall\")\n",
        "plt.ylabel(\"Precision\")\n",
        "plt.title(\"Curva Precision–Recall - RandomForest Optimizado\")\n",
        "plt.legend()\n",
        "plt.grid(True)\n",
        "plt.show()\n",
        "\n",
        "f1_scores = 2 * (precision * recall) / (precision + recall + 1e-6)\n",
        "best_idx = np.argmax(f1_scores)\n",
        "threshold_opt = thresholds[best_idx]\n",
        "\n",
        "print(f\"Umbral óptimo basado en F1 = {threshold_opt:.3f}\")\n",
        "print(f\"Precision: {precision[best_idx]:.3f}, Recall: {recall[best_idx]:.3f}, F1: {f1_scores[best_idx]:.3f}\")\n"
      ]
    },
    {
      "cell_type": "markdown",
      "metadata": {},
      "source": [
        "Interpretación del modelo Random Forest optimizado\n",
        "\n",
        "El modelo Random Forest, optimizado mediante GridSearchCV y balanceado con RandomUnderSampler, logró mejorar notablemente la detección de la clase minoritaria. En el conjunto de prueba obtuvo un recall del 63 % para los casos “Sí”, lo que significa que identifica a más de dos tercios de los clientes que contratarían el seguro, aunque con una precisión baja (12 %). Esto indica que el modelo tiende a generar falsos positivos, pero cumple su objetivo de **no dejar escapar posibles compradores**.\n",
        "\n",
        "La curva Precision–Recall mostró un área promedio de 0.176, confirmando un desempeño moderado en la separación de clases. El análisis del umbral de decisión determinó que un valor de 0.66 maximiza el equilibrio entre precisión y recall (Precision = 0.31, Recall = 0.4, F1 = 0.35), mejorando el balance general del modelo.\n",
        "\n",
        "En conclusión, este modelo es adecuado para escenarios donde es preferible contactar a más clientes potenciales, aun a costa de aceptar algunos falsos positivos."
      ]
    },
    {
      "cell_type": "markdown",
      "metadata": {},
      "source": [
        "### 3.4 Matriz de confusión con umbral óptimo"
      ]
    },
    {
      "cell_type": "code",
      "execution_count": 66,
      "metadata": {
        "id": "MfttHLo3U-_0"
      },
      "outputs": [
        {
          "name": "stdout",
          "output_type": "stream",
          "text": [
            "\n",
            "Resultados con umbral óptimo (0.71):\n",
            "Precision: 0.311\n",
            "Recall: 0.400\n",
            "F1-score: 0.350\n"
          ]
        },
        {
          "data": {
            "image/png": "[encoded data removed]",
            "text/plain": [
              "<Figure size 500x400 with 1 Axes>"
            ]
          },
          "metadata": {},
          "output_type": "display_data"
        }
      ],
      "source": [
        "# =============================================\n",
        "# Evaluación final con umbral óptimo\n",
        "# =============================================\n",
        "y_pred_opt = (y_proba >= threshold_opt).astype(int)\n",
        "\n",
        "precision_opt = precision_score(y_test, y_pred_opt)\n",
        "recall_opt = recall_score(y_test, y_pred_opt)\n",
        "f1_opt = f1_score(y_test, y_pred_opt)\n",
        "\n",
        "print(f\"\\nResultados con umbral óptimo ({threshold_opt:.2f}):\")\n",
        "print(f\"Precision: {precision_opt:.3f}\")\n",
        "print(f\"Recall: {recall_opt:.3f}\")\n",
        "print(f\"F1-score: {f1_opt:.3f}\")\n",
        "\n",
        "cm_opt = confusion_matrix(y_test, y_pred_opt)\n",
        "plt.figure(figsize=(5,4))\n",
        "sns.heatmap(cm_opt, annot=True, fmt=\"d\", cmap=\"Blues\", cbar=False)\n",
        "plt.title(f\"Matriz de confusión - Umbral óptimo ({threshold_opt:.2f})\")\n",
        "plt.xlabel(\"Predicho\")\n",
        "plt.ylabel(\"Real\")\n",
        "plt.show()\n"
      ]
    },
    {
      "cell_type": "markdown",
      "metadata": {},
      "source": [
        "# Conclusión final\n",
        "\n",
        "El modelo **Random Forest optimizado** logra un equilibrio adecuado entre precisión y sensibilidad, alcanzando un **recall de aproximadamente 63 %** y un **F1 optimizado de 0.35** tras ajustar el umbral de decisión.  \n",
        "Esto permite **detectar la mayoría de los clientes potenciales** sin comprometer demasiado la precisión.  \n",
        "El modelo demuestra ser una base sólida para estrategias de segmentación y marketing en el sector asegurador.\n"
      ]
    }
  ],
  "metadata": {
    "colab": {
      "provenance": []
    },
    "kernelspec": {
      "display_name": "base",
      "language": "python",
      "name": "python3"
    },
    "language_info": {
      "codemirror_mode": {
        "name": "ipython",
        "version": 3
      },
      "file_extension": ".py",
      "mimetype": "text/x-python",
      "name": "python",
      "nbconvert_exporter": "python",
      "pygments_lexer": "ipython3",
      "version": "3.12.7"
    }
  },
  "nbformat": 4,
  "nbformat_minor": 0
}

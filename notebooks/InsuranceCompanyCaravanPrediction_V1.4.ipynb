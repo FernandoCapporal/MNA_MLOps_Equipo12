{
 "cells": [
  {
   "cell_type": "markdown",
   "id": "6af13fe9",
   "metadata": {},
   "source": [
    "**MAESTRÍA EN INTELIGENCIA ARTIFICIAL APLICADA**\n",
    "\n",
    "**Curso: Operaciones de Aprendizaje Automático**\n",
    "\n",
    "Tecnológico de Monterrey\n",
    "\n"
   ]
  },
  {
   "cell_type": "markdown",
   "id": "b181c577",
   "metadata": {},
   "source": [
    "**EQUIPO 10**\n",
    "\n",
    "**ALUMNOS:**\n",
    "\n",
    "Gabriela Lizeth Moreno Hernández - A01796677\n",
    "\n",
    "Alejandro Chávez Campos  -  A01374974\n",
    "\n",
    "Carlos Armando Alcántar Sánchez - A01311747\n",
    "\n",
    "Luis Fernando Caporal Montes de Oca  -  A01795898\n",
    "\n",
    "Yamil Abraham Nechar Reyes - A01795726"
   ]
  },
  {
   "cell_type": "markdown",
   "id": "91258290",
   "metadata": {},
   "source": [
    "# Predicción de Seguro Caravan — Versión 1.4 (Pipelines)\n",
    "\n",
    "\n",
    "**Fecha:** 2025-10-30  \n",
    "\n",
    "Este notebook implementa **dos pipelines** de forma clara y reproducible:\n",
    "\n",
    "1. **Pipeline de Limpieza y Preparación de Datos**  \n",
    "   - Asigna los nombres oficiales de columnas del dataset Caravan Insurance.  \n",
    "   - Elimina fila/columna sobrante si aplica.  \n",
    "   - Asegura tipos numéricos y valida la binariedad de `CARAVAN`.  \n",
    "   - No imputa nulos aquí; la imputación ocurre en el pipeline de modelado.\n",
    "\n",
    "2. **Pipeline de Entrenamiento y Evaluación**  \n",
    "   - *Scikit-Learn Pipeline* con imputación (media para numéricas, moda para categóricas), escalado y codificación.  \n",
    "   - Balanceo de clases con *RandomUnderSampler*.  \n",
    "   - **RandomForest** con los **mismos hiperparámetros óptimos** de la verision 1.3 `n_estimators=300`, `max_depth=10`, `criterion='gini'`.  \n",
    "   - Métricas: Accuracy, F1, reporte de clasificación y matriz de confusión.  \n",
    "\n",
    "\n"
   ]
  },
  {
   "cell_type": "markdown",
   "id": "4ae26062",
   "metadata": {},
   "source": [
    "## 1) Librerías"
   ]
  },
  {
   "cell_type": "code",
   "execution_count": 15,
   "id": "16e13511",
   "metadata": {},
   "outputs": [],
   "source": [
    "\n",
    "import pandas as pd\n",
    "import numpy as np\n",
    "from pathlib import Path\n",
    "\n",
    "from sklearn.model_selection import train_test_split\n",
    "from sklearn.pipeline import Pipeline\n",
    "from sklearn.compose import ColumnTransformer\n",
    "from sklearn.preprocessing import StandardScaler, OneHotEncoder\n",
    "from sklearn.impute import SimpleImputer\n",
    "from sklearn.ensemble import RandomForestClassifier\n",
    "from sklearn.metrics import accuracy_score, f1_score, classification_report, confusion_matrix, ConfusionMatrixDisplay\n",
    "\n",
    "# Para undersampling\n",
    "from imblearn.under_sampling import RandomUnderSampler\n",
    "from imblearn.pipeline import Pipeline as ImbPipeline\n",
    "\n",
    "import matplotlib.pyplot as plt\n",
    "plt.rcParams['figure.figsize'] = (6, 4)\n"
   ]
  },
  {
   "cell_type": "markdown",
   "id": "3fe36525",
   "metadata": {},
   "source": [
    "## 2) Nombres oficiales de columnas"
   ]
  },
  {
   "cell_type": "code",
   "execution_count": 16,
   "id": "b9e98489",
   "metadata": {},
   "outputs": [
    {
     "data": {
      "text/plain": [
       "(86, ['APLEZIER', 'AFIETS', 'AINBOED', 'ABYSTAND', 'CARAVAN'])"
      ]
     },
     "execution_count": 16,
     "metadata": {},
     "output_type": "execute_result"
    }
   ],
   "source": [
    "\n",
    "column_names = [\n",
    "    \"MOSTYPE\",\"MAANTHUI\",\"MGEMOMV\",\"MGEMLEEF\",\"MOSHOOFD\",\"MGODRK\",\"MGODPR\",\"MGODOV\",\"MGODGE\",\n",
    "    \"MRELGE\",\"MRELSA\",\"MRELOV\",\"MFALLEEN\",\"MFGEKIND\",\"MFWEKIND\",\"MOPLHOOG\",\"MOPLMIDD\",\"MOPLLAAG\",\n",
    "    \"MBERHOOG\",\"MBERZELF\",\"MBERBOER\",\"MBERMIDD\",\"MBERARBG\",\"MBERARBO\",\"MSKA\",\"MSKB1\",\"MSKB2\",\n",
    "    \"MSKC\",\"MSKD\",\"MHHUUR\",\"MHKOOP\",\"MAUT1\",\"MAUT2\",\"MAUT0\",\"MZFONDS\",\"MZPART\",\"MINKM30\",\n",
    "    \"MINK3045\",\"MINK4575\",\"MINK7512\",\"MINK123M\",\"MINKGEM\",\"MKOOPKLA\",\"PWAPART\",\"PWABEDR\",\n",
    "    \"PWALAND\",\"PPERSAUT\",\"PBESAUT\",\"PMOTSCO\",\"PVRAAUT\",\"PAANHANG\",\"PTRACTOR\",\"PWERKT\",\"PBROM\",\n",
    "    \"PLEVEN\",\"PPERSONG\",\"PGEZONG\",\"PWAOREG\",\"PBRAND\",\"PZEILPL\",\"PPLEZIER\",\"PFIETS\",\"PINBOED\",\n",
    "    \"PBYSTAND\",\"AWAPART\",\"AWABEDR\",\"AWALAND\",\"APERSAUT\",\"ABESAUT\",\"AMOTSCO\",\"AVRAAUT\",\n",
    "    \"AAANHANG\",\"ATRACTOR\",\"AWERKT\",\"ABROM\",\"ALEVEN\",\"APERSONG\",\"AGEZONG\",\"AWAOREG\",\"ABRAND\",\n",
    "    \"AZEILPL\",\"APLEZIER\",\"AFIETS\",\"AINBOED\",\"ABYSTAND\",\"CARAVAN\"\n",
    "]\n",
    "len(column_names), column_names[-5:]  # comprobación rápida\n"
   ]
  },
  {
   "cell_type": "markdown",
   "id": "5081ec60",
   "metadata": {},
   "source": [
    "## 3) Pipeline 1 — Limpieza y preparación"
   ]
  },
  {
   "cell_type": "code",
   "execution_count": 17,
   "id": "f6ffbe8a",
   "metadata": {},
   "outputs": [],
   "source": [
    "\n",
    "class DataCleaningPipeline:\n",
    "    \"\"\"Pipeline de limpieza estructural del dataset Caravan.\n",
    "    No imputa nulos; esa responsabilidad pertenece al pipeline de modelado.\n",
    "    \"\"\"\n",
    "    def __init__(self, input_path: str):\n",
    "        self.input_path = Path(input_path)\n",
    "        self.df_ = None\n",
    "\n",
    "    def load_with_official_columns(self):\n",
    "        # Cargar CSV sin encabezado usando los nombres oficiales\n",
    "        df = pd.read_csv(self.input_path, sep=',', header=None, names=column_names)\n",
    "        # En algunos casos el CSV trae una primera fila tipo encabezado textual: la eliminamos si no es numérica\n",
    "        # Revisamos si la primera fila contiene letras; si sí, la removemos\n",
    "        if df.iloc[0].astype(str).str.contains('[A-Za-z]', regex=True).any():\n",
    "            df = df.iloc[1:].reset_index(drop=True)\n",
    "        self.df_ = df\n",
    "        return self.df_\n",
    "\n",
    "    def structural_cleanup(self):\n",
    "        # Eliminar columna final si está completamente vacía (por seguridad)\n",
    "        if self.df_.iloc[:, -1].isnull().all():\n",
    "            self.df_ = self.df_.iloc[:, :-1]\n",
    "\n",
    "        # Asegurar tipos numéricos cuando aplique\n",
    "        for col in self.df_.columns:\n",
    "            # Intentar convertir a numérico cuando sea posible\n",
    "            self.df_[col] = pd.to_numeric(self.df_[col], errors='ignore')\n",
    "\n",
    "        # Validar y asegurar binariedad del target\n",
    "        assert \"CARAVAN\" in self.df_.columns, \"No se encontró la columna objetivo 'CARAVAN'.\"\n",
    "        # Forzar a enteros donde sea seguro\n",
    "        try:\n",
    "            self.df_[\"CARAVAN\"] = pd.to_numeric(self.df_[\"CARAVAN\"], errors='coerce').fillna(0).astype(int).clip(0, 1)\n",
    "        except Exception as e:\n",
    "            raise ValueError(\"No se pudo convertir CARAVAN a 0/1. Revisa el archivo de entrada.\") from e\n",
    "\n",
    "        return self.df_\n",
    "\n",
    "    def split(self, test_size=0.2, random_state=42):\n",
    "        target = \"CARAVAN\"\n",
    "        X = self.df_.drop(columns=[target])\n",
    "        y = self.df_[target].astype(int)\n",
    "        return train_test_split(X, y, test_size=test_size, random_state=random_state, stratify=y)\n"
   ]
  },
  {
   "cell_type": "markdown",
   "id": "5c8ecbed",
   "metadata": {},
   "source": [
    "### Ejecutar el Pipeline 1 (Limpieza)"
   ]
  },
  {
   "cell_type": "code",
   "execution_count": 18,
   "id": "25977577",
   "metadata": {},
   "outputs": [
    {
     "name": "stdout",
     "output_type": "stream",
     "text": [
      "Tamaño del dataset limpio: (5937, 86)\n",
      "\n",
      "Conteo de la variable objetivo:\n",
      "CARAVAN\n",
      "1    4199\n",
      "0    1738\n",
      "Name: count, dtype: int64\n"
     ]
    },
    {
     "name": "stderr",
     "output_type": "stream",
     "text": [
      "C:\\Users\\dark_\\AppData\\Local\\Temp\\ipykernel_10692\\2348591713.py:27: FutureWarning: errors='ignore' is deprecated and will raise in a future version. Use to_numeric without passing `errors` and catch exceptions explicitly instead\n",
      "  self.df_[col] = pd.to_numeric(self.df_[col], errors='ignore')\n"
     ]
    },
    {
     "data": {
      "text/plain": [
       "((4749, 85), (1188, 85))"
      ]
     },
     "execution_count": 18,
     "metadata": {},
     "output_type": "execute_result"
    }
   ],
   "source": [
    "\n",
    "# Ajusta esta ruta a tu archivo real\n",
    "data_path = r\"C:\\Users\\dark_\\OneDrive\\Documentos\\1 - Maestria\\6 Trimestre\\MLOps\\Proyecto\\Datasets\\insurance_company_modified.csv\"\n",
    "\n",
    "cleaner = DataCleaningPipeline(input_path=data_path)\n",
    "df = cleaner.load_with_official_columns()\n",
    "df = cleaner.structural_cleanup()\n",
    "\n",
    "print(\"Tamaño del dataset limpio:\", df.shape)\n",
    "print(\"\\nConteo de la variable objetivo:\")\n",
    "print(df[\"CARAVAN\"].value_counts(dropna=False))\n",
    "\n",
    "X_train, X_test, y_train, y_test = cleaner.split(test_size=0.2, random_state=42)\n",
    "X_train.shape, X_test.shape\n"
   ]
  },
  {
   "cell_type": "markdown",
   "id": "2d404d86",
   "metadata": {},
   "source": [
    "## 4) Pipeline 2 — Entrenamiento y evaluación (imputación, undersampling, RF)"
   ]
  },
  {
   "cell_type": "code",
   "execution_count": 19,
   "id": "f24af625",
   "metadata": {},
   "outputs": [],
   "source": [
    "\n",
    "class ModelTrainingPipeline:\n",
    "    \"\"\"Pipeline de modelado con imputación, escalado, codificación, undersampling y RandomForest.\n",
    "    Usa los hiperparámetros óptimos previamente encontrados por el usuario.\n",
    "    \"\"\"\n",
    "    def __init__(self, n_estimators=300, max_depth=10, criterion='gini', random_state=42):\n",
    "        self.n_estimators = n_estimators\n",
    "        self.max_depth = max_depth\n",
    "        self.criterion = criterion\n",
    "        self.random_state = random_state\n",
    "        self.pipeline_ = None\n",
    "\n",
    "    def build(self, X):\n",
    "        # Detectar tipos de columnas (numéricas vs categóricas)\n",
    "        num_features = X.select_dtypes(include=['int64', 'float64', 'int32', 'float32']).columns.tolist()\n",
    "        cat_features = X.select_dtypes(exclude=['int64', 'float64', 'int32', 'float32']).columns.tolist()\n",
    "\n",
    "        numeric_transformer = Pipeline(steps=[\n",
    "            (\"imputer\", SimpleImputer(strategy=\"mean\")),\n",
    "            (\"scaler\", StandardScaler())\n",
    "        ])\n",
    "        categorical_transformer = Pipeline(steps=[\n",
    "            (\"imputer\", SimpleImputer(strategy=\"most_frequent\")),\n",
    "            (\"onehot\", OneHotEncoder(handle_unknown=\"ignore\"))\n",
    "        ])\n",
    "\n",
    "        preprocessor = ColumnTransformer(transformers=[\n",
    "            (\"num\", numeric_transformer, num_features),\n",
    "            (\"cat\", categorical_transformer, cat_features)\n",
    "        ])\n",
    "\n",
    "        rf = RandomForestClassifier(\n",
    "            n_estimators=self.n_estimators,\n",
    "            max_depth=self.max_depth,\n",
    "            criterion=self.criterion,\n",
    "            random_state=self.random_state\n",
    "        )\n",
    "\n",
    "        # ImbPipeline para incluir undersampling dentro del flujo\n",
    "        self.pipeline_ = ImbPipeline(steps=[\n",
    "            (\"preprocessor\", preprocessor),\n",
    "            (\"undersample\", RandomUnderSampler(random_state=self.random_state)),\n",
    "            (\"model\", rf)\n",
    "        ])\n",
    "        return self.pipeline_\n",
    "\n",
    "    def fit(self, X_train, y_train):\n",
    "        if self.pipeline_ is None:\n",
    "            self.build(X_train)\n",
    "        self.pipeline_.fit(X_train, y_train)\n",
    "\n",
    "    def evaluate(self, X_test, y_test):\n",
    "        y_pred = self.pipeline_.predict(X_test)\n",
    "        acc = accuracy_score(y_test, y_pred)\n",
    "        f1 = f1_score(y_test, y_pred)\n",
    "        print(f\"Accuracy: {acc:.4f}\")\n",
    "        print(f\"F1-score: {f1:.4f}\")\n",
    "        print(\"\\nReporte de Clasificación:\")\n",
    "        print(classification_report(y_test, y_pred, digits=4))\n",
    "\n",
    "        cm = confusion_matrix(y_test, y_pred)\n",
    "        ConfusionMatrixDisplay(cm).plot(values_format='d')\n",
    "        plt.title(\"Matriz de confusión\")\n",
    "        plt.tight_layout()\n",
    "        plt.show()\n",
    "\n",
    "        return {\"accuracy\": acc, \"f1\": f1}\n"
   ]
  },
  {
   "cell_type": "markdown",
   "id": "1efcb249",
   "metadata": {},
   "source": [
    "### Entrenar y evaluar el modelo"
   ]
  },
  {
   "cell_type": "code",
   "execution_count": 20,
   "id": "245f994f",
   "metadata": {},
   "outputs": [
    {
     "name": "stdout",
     "output_type": "stream",
     "text": [
      "Accuracy: 0.4941\n",
      "F1-score: 0.5788\n",
      "\n",
      "Reporte de Clasificación:\n",
      "              precision    recall  f1-score   support\n",
      "\n",
      "           0     0.2895    0.5000    0.3667       348\n",
      "           1     0.7036    0.4917    0.5788       840\n",
      "\n",
      "    accuracy                         0.4941      1188\n",
      "   macro avg     0.4965    0.4958    0.4728      1188\n",
      "weighted avg     0.5823    0.4941    0.5167      1188\n",
      "\n"
     ]
    },
    {
     "data": {
      "image/png": "[encoded data removed]",
      "text/plain": [
       "<Figure size 600x400 with 2 Axes>"
      ]
     },
     "metadata": {},
     "output_type": "display_data"
    },
    {
     "data": {
      "text/plain": [
       "{'accuracy': 0.4941077441077441, 'f1': 0.5788367203924317}"
      ]
     },
     "execution_count": 20,
     "metadata": {},
     "output_type": "execute_result"
    }
   ],
   "source": [
    "\n",
    "trainer = ModelTrainingPipeline(\n",
    "    n_estimators=300,\n",
    "    max_depth=10,\n",
    "    criterion='gini',\n",
    "    random_state=42\n",
    ")\n",
    "trainer.build(X_train)\n",
    "trainer.fit(X_train, y_train)\n",
    "metrics = trainer.evaluate(X_test, y_test)\n",
    "metrics\n"
   ]
  },
  {
   "cell_type": "markdown",
   "id": "4fb3de6b",
   "metadata": {},
   "source": [
    "\n",
    "## 5) Conclusiones\n",
    "\n",
    "Con un Accuracy de 0.4941 y un F1-score de 0.5788, el modelo logra un equilibrio razonable entre precisión y sensibilidad, considerando el fuerte desbalance de clases en el dataset.\n",
    "La precisión para la clase 1 (clientes que compran el seguro) es de 0.7036, lo que indica que la mayoría de los casos que el modelo predice como compradores realmente lo son.\n",
    "El recall de 0.4917 muestra que el modelo logra detectar casi la mitad de los compradores reales, reduciendo la probabilidad de perder clientes potenciales.\n",
    "En conjunto, este resultado es positivo, ya que prioriza la detección de clientes con intención de compra sin generar un exceso de falsos positivos, cumpliendo el objetivo de negocio de no dejar escapar a posibles compradores.\n",
    "\n",
    "Adicionalmente en este notebook de refactor:\n",
    "\n",
    "- Se separó claramente la **limpieza estructural** (sin imputación) del **pipeline de modelado** (con imputación, codificación, escalado y undersampling).\n",
    "- Se usaron los **nombres de columnas oficiales** y se validó la variable objetivo `CARAVAN`.\n",
    "- Se reprodujeron los **hiperparámetros óptimos** del RandomForest para mantener consistencia con tu trabajo previo.\n",
    "- Esta organización facilita migrar fácilmente a un flujo con DVC/MLflow más adelante.\n"
   ]
  }
 ],
 "metadata": {
  "kernelspec": {
   "display_name": "base",
   "language": "python",
   "name": "python3"
  },
  "language_info": {
   "codemirror_mode": {
    "name": "ipython",
    "version": 3
   },
   "file_extension": ".py",
   "mimetype": "text/x-python",
   "name": "python",
   "nbconvert_exporter": "python",
   "pygments_lexer": "ipython3",
   "version": "3.12.7"
  }
 },
 "nbformat": 4,
 "nbformat_minor": 5
}
